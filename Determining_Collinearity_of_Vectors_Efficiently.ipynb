{
  "nbformat": 4,
  "nbformat_minor": 0,
  "metadata": {
    "colab": {
      "provenance": []
    },
    "kernelspec": {
      "name": "python3",
      "display_name": "Python 3"
    },
    "language_info": {
      "name": "python"
    }
  },
  "cells": [
    {
      "cell_type": "markdown",
      "source": [
        "To solve this problem, we need to determine if two vectors given by their coordinates are collinear. Collinear vectors lie on the same straight line and can be scalar multiples of each other. The solution should handle edge cases such as vectors with zero coordinates without causing division errors.\n",
        "\n",
        "## Approach\n",
        "1. **Check for Zero Vectors** : If either of the vectors is a zero vector (both coordinates are zero), they are collinear with any other vector. This includes cases where one or both vectors are zero vectors.\n",
        "\n",
        "2. **Cross Product Check** : For non-zero vectors, we use the cross product method. Two vectors `(x1, y1)` and `(x2, y2)` are collinear if their cross product `(x1*y2 - x2*y1)` is zero. This avoids division operations and handles all edge cases effectively."
      ],
      "metadata": {
        "id": "4sXV021DfSLG"
      }
    },
    {
      "cell_type": "markdown",
      "source": [
        "## Solution Code"
      ],
      "metadata": {
        "id": "KjdkLOnyfwcJ"
      }
    },
    {
      "cell_type": "code",
      "execution_count": null,
      "metadata": {
        "id": "1wD3L4ayfHKx"
      },
      "outputs": [],
      "source": [
        "def collinearity(x1, y1, x2, y2):\n",
        "    if (x1 == 0 and y1 == 0) or (x2 == 0 and y2 == 0):\n",
        "        return True\n",
        "    return x1 * y2 == y1 * x2"
      ]
    },
    {
      "cell_type": "markdown",
      "source": [
        "## Explanation\n",
        "1. **Zero Vector Check** : The function first checks if either vector is a zero vector. If either vector is `(0,0)`, they are collinear by definition, so the function returns True immediately.\n",
        "\n",
        "2. **Cross Product Calculation** : If neither vector is a zero vector, the function calculates the cross product. If the cross product is zero, the vectors are collinear, and the function returns True. Otherwise, it returns False.\n",
        "\n",
        "This approach efficiently handles all edge cases and ensures accurate results without division operations, making it both robust and efficient."
      ],
      "metadata": {
        "id": "hDLClsN4f3Tr"
      }
    },
    {
      "cell_type": "markdown",
      "source": [
        "## Test in Codewar Platform\n",
        "Enter platform through this link\n",
        "https://www.codewars.com/kata/65ba420888906c1f86e1e680/train/python"
      ],
      "metadata": {
        "id": "ymV5-Zj1gMgn"
      }
    },
    {
      "cell_type": "code",
      "source": [
        "from solution import collinearity\n",
        "import codewars_test as test\n",
        "\n",
        "@test.describe(\"Basic Tests\")\n",
        "def basic_tests():\n",
        "\n",
        "    @test.it(\"the vectors are directed in one direction\")\n",
        "    def test_fixed():\n",
        "        test.assert_equals(collinearity(1,1,1,1), True, f\"Input: {1,1,1,1}\")\n",
        "        test.assert_equals(collinearity(1,2,2,4), True, f\"Input: {1,2,2,4}\")\n",
        "\n",
        "    @test.it(\"the vectors are directed in opposite directions\")\n",
        "    def test_fixed():\n",
        "        test.assert_equals(collinearity(1,1,6,1), False, f\"Input: {1,1,6,1}\")\n",
        "        test.assert_equals(collinearity(1,2,-1,-2), True, f\"Input: {1,2,-1,-2}\")\n",
        "        test.assert_equals(collinearity(1,2,1,-2), False, f\"Input: {1,2,1,-2}\")\n",
        "\n",
        "    @test.it(\"the vectors contain zero\")\n",
        "    def test_fixed():\n",
        "        test.assert_equals(collinearity(4,0,11,0), True, f\"Input: {4,0,11,0}\")\n",
        "        test.assert_equals(collinearity(0,1,6,0), False, f\"Input: {0,1,6,0}\")\n",
        "        test.assert_equals(collinearity(4,4,0,4), False, f\"Input: {4,4,0,4}\")\n",
        "\n",
        "    @test.it(\"vector with coordinates x = 0 and y = 0\")\n",
        "    def test_fixed():\n",
        "        test.assert_equals(collinearity(0,0,0,0), True, f\"Input: {0,0,0,0}\")\n",
        "        test.assert_equals(collinearity(0,0,1,0), True, f\"Input: {0,0,1,0}\")\n",
        "        test.assert_equals(collinearity(5,7,0,0), True, f\"Input: {5,7,0,0}\")"
      ],
      "metadata": {
        "id": "OACyIyr6gXgU"
      },
      "execution_count": null,
      "outputs": []
    }
  ]
}